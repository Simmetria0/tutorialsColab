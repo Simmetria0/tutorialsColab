{
  "nbformat": 4,
  "nbformat_minor": 0,
  "metadata": {
    "colab": {
      "name": "Tutorial 1 on DL.ipynb",
      "version": "0.3.2",
      "provenance": [],
      "include_colab_link": true
    },
    "language_info": {
      "codemirror_mode": {
        "name": "ipython",
        "version": 3
      },
      "file_extension": ".py",
      "mimetype": "text/x-python",
      "name": "python",
      "nbconvert_exporter": "python",
      "pygments_lexer": "ipython3",
      "version": "3.7.2"
    },
    "kernelspec": {
      "display_name": "Python 3",
      "language": "python",
      "name": "python3"
    }
  },
  "cells": [
    {
      "cell_type": "markdown",
      "metadata": {
        "id": "view-in-github",
        "colab_type": "text"
      },
      "source": [
        "<a href=\"https://colab.research.google.com/github/Simmetria0/tutorialsColab/blob/master/Tutorial_1_on_DL.ipynb\" target=\"_parent\"><img src=\"https://colab.research.google.com/assets/colab-badge.svg\" alt=\"Open In Colab\"/></a>"
      ]
    },
    {
      "cell_type": "markdown",
      "metadata": {
        "id": "gNBRIfi9Bm1g",
        "colab_type": "text"
      },
      "source": [
        "# Tutorial 1 on Machine learning \n",
        "### Diego Tuccillo\n",
        "\n",
        "\n",
        "## 1) Define the problem\n",
        "\n",
        "\n",
        "In this \"hello world\" of deep learning we are goung to solve the problem of classify grayscale images of handwritten digits (28 pixels by 28 pixels), into their 10 categories (0 to 9). The dataset we will use is the MNIST dataset, a classic dataset in the machine learning community, which has been around for almost as long as the field itself and has been very intensively studied. It's a set of 60,000 training images, plus 10,000 test images, assembled by the National Institute of Standards and Technology (the NIST in MNIST) in the 1980s. \n",
        "\n",
        "You can think of \"solving\" MNIST as the \"Hello World\" of deep learning.\n",
        "\n",
        "\n",
        "![alternate text](http://simmetria0.altervista.org/Tutorial_1_DL/mnist_example.png)\n",
        "\n",
        "\n",
        "\n",
        "\n",
        "\n",
        "We are going to solve this problem using a Neural Network (not deep) using Keras.\n",
        "\n",
        "\n",
        "\n"
      ]
    },
    {
      "cell_type": "code",
      "metadata": {
        "id": "2NfLSLzwBm1i",
        "colab_type": "code",
        "colab": {}
      },
      "source": [
        "# The MNIST dataset comes pre-loaded in Keras, in the form of a set of four Numpy arrays:\n",
        "\n",
        "from keras.datasets import mnist\n",
        "\n",
        "(train_images, train_labels), (test_images, test_labels) = mnist.load_data()"
      ],
      "execution_count": 0,
      "outputs": []
    },
    {
      "cell_type": "code",
      "metadata": {
        "id": "dzSw7toGCP6j",
        "colab_type": "code",
        "outputId": "626ae5f0-f0f7-4165-c0d0-44f8270fdbf6",
        "colab": {
          "base_uri": "https://localhost:8080/",
          "height": 303
        }
      },
      "source": [
        "# let's have a look at the data sample\n",
        "\n",
        "print (train_images.shape)\n",
        "\n",
        "import matplotlib.pyplot as plt\n",
        "\n",
        "\n",
        "plt.imshow(train_images[0,:,:])\n",
        "\n",
        "\n",
        "\n"
      ],
      "execution_count": 10,
      "outputs": [
        {
          "output_type": "stream",
          "text": [
            "(60000, 28, 28)\n"
          ],
          "name": "stdout"
        },
        {
          "output_type": "execute_result",
          "data": {
            "text/plain": [
              "<matplotlib.image.AxesImage at 0x7f47ce75e0f0>"
            ]
          },
          "metadata": {
            "tags": []
          },
          "execution_count": 10
        },
        {
          "output_type": "display_data",
          "data": {
            "image/png": "[encoded data removed]",
            "text/plain": [
              "<Figure size 432x288 with 1 Axes>"
            ]
          },
          "metadata": {
            "tags": []
          }
        }
      ]
    },
    {
      "cell_type": "code",
      "metadata": {
        "id": "CRmgQP3thNg5",
        "colab_type": "code",
        "colab": {
          "base_uri": "https://localhost:8080/",
          "height": 34
        },
        "outputId": "7a1f5990-c67e-4917-c6a5-2c22b5972359"
      },
      "source": [
        "# and the train_labels set\n",
        "train_labels.shape\n"
      ],
      "execution_count": 13,
      "outputs": [
        {
          "output_type": "execute_result",
          "data": {
            "text/plain": [
              "(60000,)"
            ]
          },
          "metadata": {
            "tags": []
          },
          "execution_count": 13
        }
      ]
    },
    {
      "cell_type": "markdown",
      "metadata": {
        "id": "GlXNIjiohlTr",
        "colab_type": "text"
      },
      "source": [
        "***\n",
        "\n",
        "## Note that you had:\n",
        "\n",
        "**(train_images, train_labels), \n",
        "(test_images, test_labels) **\n",
        "\n",
        "Why?\n",
        "\n",
        "***\n"
      ]
    },
    {
      "cell_type": "code",
      "metadata": {
        "id": "mHIw4UtnhjMp",
        "colab_type": "code",
        "colab": {
          "base_uri": "https://localhost:8080/",
          "height": 108
        },
        "outputId": "3affd409-1d72-4a44-ea5f-fb4059ca300a"
      },
      "source": [
        "#let's built the model\n",
        "\n",
        "from keras import models\n",
        "from keras import layers\n",
        "\n",
        "network = models.Sequential()\n",
        "network.add(layers.Dense(512, activation='relu', input_shape=(28 * 28,)))\n",
        "network.add(layers.Dense(10, activation='softmax'))"
      ],
      "execution_count": 14,
      "outputs": [
        {
          "output_type": "stream",
          "text": [
            "WARNING:tensorflow:From /usr/local/lib/python3.6/dist-packages/tensorflow/python/framework/op_def_library.py:263: colocate_with (from tensorflow.python.framework.ops) is deprecated and will be removed in a future version.\n",
            "Instructions for updating:\n",
            "Colocations handled automatically by placer.\n"
          ],
          "name": "stdout"
        }
      ]
    },
    {
      "cell_type": "markdown",
      "metadata": {
        "id": "DFlAgyQBjVB4",
        "colab_type": "text"
      },
      "source": [
        "***\n",
        "\n",
        "# What are we doing?\n",
        "\n",
        "\n",
        "![alternate text](http://simmetria0.altervista.org/Tutorial_1_DL/NN.png)\n",
        "\n",
        "\n",
        "\n",
        "\n",
        "So now we have the NN STRUCTURE ready.\n",
        "\n",
        "To make it work we need a \"fitting\" method, i.e. to define HOW the NN learn.\n",
        "\n",
        "\n",
        "This is done defining:\n",
        "\n",
        "\n",
        "\n",
        "\n",
        "\n",
        "1. **A loss function**: that is is how the network will be able to MEASURE how good a job it is doing on its training data.\n",
        "\n",
        "2. **An optimizer**: this is the mechanism through which the network will update itself based on the results obtained with the loss function.\n",
        "\n",
        "3. **A metrics**: to monitor during training and testing. Here we will only care about accuracy (the fraction of the images that were correctly classified).\n",
        "\n",
        "\n",
        "\n",
        "Note that the loss function is used to optimize your model. This is the function that will get minimized by the optimizer.\n",
        "\n",
        "A metric is used to judge the performance of your model. This is only for you to look at and has nothing to do with the optimization process.\n",
        "\n",
        "\n",
        "\n",
        "\n"
      ]
    },
    {
      "cell_type": "code",
      "metadata": {
        "id": "FsKJ_54omrfI",
        "colab_type": "code",
        "colab": {}
      },
      "source": [
        "#we do this using this simple command:\n",
        "\n",
        "network.compile(optimizer='rmsprop', loss='categorical_crossentropy', metrics=['accuracy'])"
      ],
      "execution_count": 0,
      "outputs": []
    },
    {
      "cell_type": "code",
      "metadata": {
        "id": "UnzwQdefm8zk",
        "colab_type": "code",
        "colab": {}
      },
      "source": [
        "# Now we are ready!\n",
        "# We have just to put the data in the right shape to feed the NN and we are ready:\n",
        "\n",
        "\n",
        "train_images = train_images.reshape((60000, 28 * 28))\n",
        "train_images = train_images.astype('float32') / 255\n",
        "\n",
        "test_images = test_images.reshape((10000, 28 * 28))\n",
        "test_images = test_images.astype('float32') / 255\n",
        "\n",
        "\n",
        "\n",
        "#We also need to categorically encode the labels\n",
        "\n",
        "from keras.utils import to_categorical\n",
        "\n",
        "train_labels = to_categorical(train_labels)\n",
        "test_labels = to_categorical(test_labels)\n",
        "\n",
        "\n",
        "\n",
        "\n"
      ],
      "execution_count": 0,
      "outputs": []
    },
    {
      "cell_type": "code",
      "metadata": {
        "id": "jzBZXYJBon0X",
        "colab_type": "code",
        "colab": {
          "base_uri": "https://localhost:8080/",
          "height": 68
        },
        "outputId": "226e104a-40cc-4030-9d89-25dd80aa2170"
      },
      "source": [
        "print (train_images.shape)\n",
        "\n",
        "print(train_labels.shape)\n",
        "\n",
        "train_labels[0,:]\n",
        "\n"
      ],
      "execution_count": 30,
      "outputs": [
        {
          "output_type": "stream",
          "text": [
            "(60000, 784)\n",
            "(60000, 10)\n"
          ],
          "name": "stdout"
        },
        {
          "output_type": "execute_result",
          "data": {
            "text/plain": [
              "array([0., 0., 0., 0., 0., 1., 0., 0., 0., 0.], dtype=float32)"
            ]
          },
          "metadata": {
            "tags": []
          },
          "execution_count": 30
        }
      ]
    },
    {
      "cell_type": "code",
      "metadata": {
        "id": "BWiqeRTHo6JF",
        "colab_type": "code",
        "colab": {
          "base_uri": "https://localhost:8080/",
          "height": 1020
        },
        "outputId": "3e965db5-c81f-4d68-f40e-b0e002bf3c5a"
      },
      "source": [
        "#We are now ready to train our network, which in Keras is done via a call to the fit method of the network: we \"fit\" the model to its training data.\n",
        "\n",
        "network.fit(train_images, train_labels, epochs=5, batch_size=128)"
      ],
      "execution_count": 31,
      "outputs": [
        {
          "output_type": "stream",
          "text": [
            "WARNING:tensorflow:From /usr/local/lib/python3.6/dist-packages/tensorflow/python/ops/math_ops.py:3066: to_int32 (from tensorflow.python.ops.math_ops) is deprecated and will be removed in a future version.\n",
            "Instructions for updating:\n",
            "Use tf.cast instead.\n",
            "Epoch 1/5\n",
            "60000/60000 [==============================] - 5s 88us/step - loss: 0.2559 - acc: 0.9253\n",
            "Epoch 2/5\n",
            "60000/60000 [==============================] - 5s 81us/step - loss: 0.1020 - acc: 0.9694\n",
            "Epoch 3/5\n",
            "60000/60000 [==============================] - 5s 81us/step - loss: 0.0667 - acc: 0.9800\n",
            "Epoch 4/5\n",
            "60000/60000 [==============================] - 5s 90us/step - loss: 0.0487 - acc: 0.9851\n",
            "Epoch 5/5\n",
            "60000/60000 [==============================] - 6s 97us/step - loss: 0.0360 - acc: 0.9889\n"
          ],
          "name": "stdout"
        },
        {
          "output_type": "execute_result",
          "data": {
            "text/plain": [
              "<keras.callbacks.History at 0x7f47ce78f588>"
            ]
          },
          "metadata": {
            "tags": []
          },
          "execution_count": 31
        }
      ]
    },
    {
      "cell_type": "markdown",
      "metadata": {
        "id": "LVAHCVEApZ37",
        "colab_type": "text"
      },
      "source": [
        "***\n",
        "\n",
        "Two quantities are being displayed during training: the \"loss\" of the network over the training data, and the accuracy of the network over the training data.\n",
        "\n",
        "Let's see now if the network can GENERILIZE what it learn\n",
        "\n",
        "***"
      ]
    },
    {
      "cell_type": "code",
      "metadata": {
        "id": "uVWWIOnMpIGq",
        "colab_type": "code",
        "colab": {
          "base_uri": "https://localhost:8080/",
          "height": 51
        },
        "outputId": "6eb8890c-0016-42e8-cbfd-306abebd1e09"
      },
      "source": [
        "test_loss, test_acc = network.evaluate(test_images, test_labels)\n",
        "\n",
        "print('test accuracy:', test_acc)\n"
      ],
      "execution_count": 33,
      "outputs": [
        {
          "output_type": "stream",
          "text": [
            "10000/10000 [==============================] - 0s 49us/step\n",
            "test accuracy: 0.9797\n"
          ],
          "name": "stdout"
        }
      ]
    }
  ]
}